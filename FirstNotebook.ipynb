{
 "cells": [
  {
   "cell_type": "markdown",
   "id": "0b9aa1f2-f797-4dfa-b0f0-c95808247f57",
   "metadata": {
    "tags": []
   },
   "source": [
    "# First Notebook"
   ]
  },
  {
   "cell_type": "markdown",
   "id": "ebe3494d-4cf6-4564-93bb-42f89bd81316",
   "metadata": {},
   "source": [
    "### Introduction\n",
    "I am a second-year Information Systems and Technologies (CTIS) student at Bilkent University with a keen interest in data science and back-end development."
   ]
  },
  {
   "cell_type": "markdown",
   "id": "88d35b3d-30b8-42a3-9ff0-4615d5d6b1e3",
   "metadata": {
    "tags": []
   },
   "source": [
    "### Data Science Languages\n",
    "1. R\n",
    "2. Python\n",
    "3. SQL\n",
    "4. MATLAB\n",
    "5. Julia\n",
    "6. Scala\n",
    "7. Java\n",
    "8. C++\n",
    "9. JavaScript"
   ]
  },
  {
   "cell_type": "markdown",
   "id": "1ea9961b-4b6f-4280-8afc-54b6170ce07e",
   "metadata": {},
   "source": [
    "### Data Science Liblaries\n",
    "1. NumPy: provides support for numerical operations and multi-dimensional arrays\n",
    "2. Pandas: provides support for data manipulation, processing, and analysis\n",
    "3. Matplotlib: a plotting library for creating static, animated, and interactive visualizations in Python\n",
    "4. Seaborn: a visualization library built on top of Matplotlib for creating more complex and aesthetically pleasing visualizations\n",
    "5. Scikit-learn: a machine learning library that provides a range of supervised and unsupervised learning algorithms\n",
    "6. TensorFlow: a deep learning framework for creating and training neural networks\n",
    "7. Keras: a high-level API built on top of TensorFlow for building and training deep learning models\n",
    "8. PyTorch: a deep learning framework similar to TensorFlow, but with a more Pythonic approach and dynamic computational graph"
   ]
  },
  {
   "cell_type": "markdown",
   "id": "a3fb1a1d-7d6c-4eaf-982b-608993df9fba",
   "metadata": {},
   "source": [
    "### Data Science Tools\n",
    "1. Jupyter Notebooks\n",
    "2. RStudio\n",
    "3. Apache Spark\n",
    "4. Tableau\n",
    "5. Excel\n",
    "6. Python\n",
    "8. MATLAB\n",
    "9. Power BI\n",
    "12. TensorFlow\n",
    "13. Scikit-learn\n",
    "14. Keras\n",
    "15. PyTorch\n"
   ]
  },
  {
   "cell_type": "markdown",
   "id": "0e792606-6eef-4746-a002-88d5bfab4f1b",
   "metadata": {},
   "source": [
    "### Arithmetic Expressions\n",
    "Addition: $3 + 100 = 103$<br>\n",
    "Subtraction: $55 - 22 = 33$<br>\n",
    "Multiplication: $7 * 5 = 35$<br>\n",
    "Division: $8 / 4 = 2$<br>\n",
    "Exponents: $5^3 = 125$<br>\n",
    "Square roots: $√(16) = 4$<br>"
   ]
  },
  {
   "cell_type": "code",
   "execution_count": 3,
   "id": "cfa47875-c3ec-43c9-ae39-a0909a54e64e",
   "metadata": {
    "tags": []
   },
   "outputs": [
    {
     "data": {
      "text/plain": [
       "32"
      ]
     },
     "execution_count": 3,
     "metadata": {},
     "output_type": "execute_result"
    }
   ],
   "source": [
    "a = 7\n",
    "b = 25\n",
    "a + b"
   ]
  },
  {
   "cell_type": "code",
   "execution_count": 4,
   "id": "b007809a-1457-44ce-bf62-84684dbd64fc",
   "metadata": {
    "tags": []
   },
   "outputs": [
    {
     "data": {
      "text/plain": [
       "175"
      ]
     },
     "execution_count": 4,
     "metadata": {},
     "output_type": "execute_result"
    }
   ],
   "source": [
    "a = 7\n",
    "b = 25\n",
    "a * b"
   ]
  },
  {
   "cell_type": "code",
   "execution_count": 7,
   "id": "8df04db0-d64a-4191-b90a-3959fe4d487a",
   "metadata": {
    "tags": []
   },
   "outputs": [
    {
     "data": {
      "text/plain": [
       "60"
      ]
     },
     "execution_count": 7,
     "metadata": {},
     "output_type": "execute_result"
    }
   ],
   "source": [
    "min = 3602\n",
    "hours = min // 60\n",
    "hours"
   ]
  },
  {
   "cell_type": "markdown",
   "id": "7a743294-8325-4bf8-b3bb-744e960af4d8",
   "metadata": {},
   "source": [
    "# Objectives\n",
    "\n",
    "- Learn about data science languages and libraries\n",
    "- Understand the use of Jupyter Notebook and RStudio\n",
    "- Explore data visualization techniques using ggplot and matplotlib\n",
    "- Familiarize with GitHub and version control systems\n",
    "- Practice data cleaning and preprocessing techniques\n",
    "- Apply machine learning algorithms on datasets using scikit-learn and caret libraries\n",
    "- Develop and evaluate predictive models\n",
    "- Communicate findings and insights through effective data storytelling"
   ]
  },
  {
   "cell_type": "markdown",
   "id": "6e2b3d66-ce9e-424c-94c0-6b910038fbae",
   "metadata": {
    "tags": []
   },
   "source": [
    "### Author: Kamila"
   ]
  },
  {
   "cell_type": "code",
   "execution_count": null,
   "id": "8a8fd74a-01b0-4b45-a736-30b49902a5f0",
   "metadata": {},
   "outputs": [],
   "source": []
  }
 ],
 "metadata": {
  "kernelspec": {
   "display_name": "Python",
   "language": "python",
   "name": "conda-env-python-py"
  },
  "language_info": {
   "codemirror_mode": {
    "name": "ipython",
    "version": 3
   },
   "file_extension": ".py",
   "mimetype": "text/x-python",
   "name": "python",
   "nbconvert_exporter": "python",
   "pygments_lexer": "ipython3",
   "version": "3.7.12"
  }
 },
 "nbformat": 4,
 "nbformat_minor": 5
}
