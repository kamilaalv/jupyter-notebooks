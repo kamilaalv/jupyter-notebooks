{
 "cells": [
  {
   "cell_type": "markdown",
   "id": "64707081",
   "metadata": {},
   "source": [
    "## HW3 Q.5\n",
    "The _half-normal_ distribution has the following pdf:\n",
    "    $f(x) = \\begin{cases}\n",
    "           \\sqrt{\\frac{2}{\\pi}}\\cdot e^{-x^2/2} &\\text{ $x \\geq 0$}\\\\\n",
    "            0 &\\text{otherwise}\\end{cases} \\\\ $\n",
    " This is the distribution of $\\mid Z \\mid$, where $Z \\sim N(0, 1)$; equivalently, it’s the pdf that arises by\n",
    " “folding” the standard normal distribution in half along its line of symmetry. Consider\n",
    " simulating values from this distribution using the accept–reject method with a candidate\n",
    " distribution $g(x)=e^x$ for $x \\geq 0$ (i.e., an exponential pdf with $\\lambda = 1$).\n",
    "\n",
    "(a) Find the inverse cdf corresponding to g(x). (This will allow us to simulate values from the\n",
    "candidate distribution.)\n",
    "\n",
    "(b) Find the smallest majorization constant $c$ so that $f(x)/g(x) \\leq c$ for all $x \\geq 0$. [Hint: Use\n",
    "calculus to determine where the ratio $\\frac{f(x)}{g(x)}$ is maximized.]\n",
    "\n",
    "(c) On the average, how many candidate values will be required to generate 10,000\n",
    "“accepted” values?\n",
    "\n",
    "(d) Write a program to construct 10,000 values from a half-normal distribution."
   ]
  },
  {
   "cell_type": "markdown",
   "id": "46f1cf3b",
   "metadata": {},
   "source": [
    "---\n",
    "<span style=\"font-size: 1.1em;\"> (a)$\\\\\n",
    "\\begin{align}\\\\\n",
    "&g(x) = e^{-x}  \\text{  for } x \\geq 0 \\\\\n",
    "\\\\\n",
    "&G(x) = \\int_{x=0}^\\infty e^{-x}\\,dx = -\\int_{u=0}^\\infty e^{u}\\,du = -e^{-x} + 1\\\\\n",
    "\\\\\n",
    "&G^{-1}(x) = -ln(x - 1)\n",
    "\\end{align}$\n"
   ]
  },
  {
   "cell_type": "markdown",
   "id": "7b7f4198",
   "metadata": {},
   "source": [
    "---\n",
    "<span style=\"font-size: 1.1em;\">(b)$\\\\\n",
    "\\begin{align}\n",
    "&\\frac{f(x)}{g(x)} = \\frac{\\sqrt{\\frac{2}{\\pi}}\\cdot e^{-x^2/2}}{e^{-x}} = \\sqrt{\\frac{2}{\\pi}}\\cdot e^{\\frac{-x^2}{2} + x}\\\\\n",
    "\\\\\n",
    "&\\sqrt{\\frac{2}{\\pi}}\\cdot\\frac{d}{dx}e^{\\frac{-x^2}{2} + x} = \\sqrt{\\frac{2}{\\pi}}\\cdot[(-x+1)\\cdot e^{\\frac{-x^2}{2} + x}] = 0 \\\\\n",
    "\\\\\n",
    "&\\Rightarrow x = 1\\\\\n",
    "\\\\\n",
    "&c = \\frac{f(1)}{g(1)} = \\frac{2}{\\pi}\\cdot e^{0.5} \\approx 1.315\n",
    "\\end{align}$"
   ]
  },
  {
   "cell_type": "markdown",
   "id": "7a2b40f9",
   "metadata": {},
   "source": [
    "---\n",
    "(c) and (d) "
   ]
  },
  {
   "cell_type": "code",
   "execution_count": 6,
   "id": "98cc2755",
   "metadata": {},
   "outputs": [
    {
     "name": "stdout",
     "output_type": "stream",
     "text": [
      "Average:  0.7617306520414382\n"
     ]
    },
    {
     "data": {
      "image/png": "[encoded data removed]",
      "text/plain": [
       "<Figure size 640x480 with 1 Axes>"
      ]
     },
     "metadata": {},
     "output_type": "display_data"
    }
   ],
   "source": [
    "import numpy as np\n",
    "import matplotlib.pyplot as plt\n",
    "\n",
    "def half_normal(n):\n",
    "    # majorization constant\n",
    "    c = np.sqrt(2/np.pi)*np.exp(1/2)\n",
    "\n",
    "    # initialization\n",
    "    count = 0\n",
    "    accepted = []\n",
    "\n",
    "    # loop until we have n accepted values\n",
    "    while(len(accepted)<n):\n",
    "        # generate a candidate value\n",
    "        x = -np.log(1-np.random.rand())\n",
    "        count+=1\n",
    "        # generate a uniform rv\n",
    "        u = np.random.rand()\n",
    "\n",
    "        # compute the ratio\n",
    "        ratio  = np.sqrt(2/np.pi) * np.exp(-x**2/2)/(c* np.exp(-x))\n",
    "\n",
    "        # accept/reject the value\n",
    "        if u <= ratio:\n",
    "            accepted.append(abs(x))\n",
    "\n",
    "    # return the accepted values and the average number of candidate values per accepted value\n",
    "    return accepted, n/count\n",
    "\n",
    " # run the function   \n",
    "samples, avg = half_normal(10000)\n",
    "print(\"Average: \", avg)\n",
    "\n",
    "# plot a histogram of the samples\n",
    "plt.hist(samples, bins=50, density=True)\n",
    "\n",
    "# plot the theoretical pdf\n",
    "x = np.linspace(0, 5, 1000)\n",
    "pdf = np.sqrt(2/np.pi) * np.exp(-x**2/2)\n",
    "plt.plot(x, pdf, 'r-', label='Theoretical PDF')\n",
    "\n",
    "# set the axis labels and legend\n",
    "plt.xlabel('x')\n",
    "plt.ylabel('PDF')\n",
    "plt.legend()\n",
    "\n",
    "# show the plot\n",
    "plt.show()"
   ]
  }
 ],
 "metadata": {
  "kernelspec": {
   "display_name": "Python 3 (ipykernel)",
   "language": "python",
   "name": "python3"
  },
  "language_info": {
   "codemirror_mode": {
    "name": "ipython",
    "version": 3
   },
   "file_extension": ".py",
   "mimetype": "text/x-python",
   "name": "python",
   "nbconvert_exporter": "python",
   "pygments_lexer": "ipython3",
   "version": "3.11.2"
  }
 },
 "nbformat": 4,
 "nbformat_minor": 5
}
